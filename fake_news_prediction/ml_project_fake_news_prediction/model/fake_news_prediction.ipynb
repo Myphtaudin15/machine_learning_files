{
 "cells": [
  {
   "cell_type": "markdown",
   "id": "5da3a916-2b26-44cc-99ec-699366817dcc",
   "metadata": {},
   "source": [
    "<div style=\"display: flex; gap: 10px;\">\n",
    "    <img src=\"fakenews.jpeg\" alt=\"fake news image\" width=\"350\">\n",
    "    <img src=\"fakenews.jpeg\" alt=\"fake news image\" width=\"350\">\n",
    "    <img src=\"fakenews.jpeg\" alt=\"fake news image\" width=\"350\">\n",
    "</div>"
   ]
  },
  {
   "cell_type": "markdown",
   "id": "bee8eb43-e20b-47e4-9dac-3c4d264a5999",
   "metadata": {
    "jp-MarkdownHeadingCollapsed": true
   },
   "source": [
    "<h1 style=\"color:#00008B; font-family: 'Times New Roman', Times, serif; font-size: 40px; text-align: center;\"><b>Fake News Prediction</b></h1>"
   ]
  },
  {
   "cell_type": "markdown",
   "id": "efb6657a-5739-453c-a9d9-423bcbdc8ad7",
   "metadata": {},
   "source": [
    "# Importing the Libraries"
   ]
  },
  {
   "cell_type": "code",
   "execution_count": 4,
   "id": "697733ce-b842-4f69-a938-5c65c93535f5",
   "metadata": {},
   "outputs": [],
   "source": [
    "import numpy as np\n",
    "import pandas as pd\n",
    "import matplotlib.pyplot as plt\n",
    "import seaborn as sns\n",
    "import re\n",
    "from nltk.corpus import stopwords\n",
    "from nltk.stem.porter import PorterStemmer\n",
    "from sklearn.feature_extraction.text import TfidfVectorizer\n",
    "from sklearn.model_selection import train_test_split"
   ]
  },
  {
   "cell_type": "markdown",
   "id": "4476bcee-e2e9-447d-b53e-89344eb6aef8",
   "metadata": {},
   "source": [
    "# Loading Dataset"
   ]
  },
  {
   "cell_type": "code",
   "execution_count": 7,
   "id": "f2898b18-a4b6-4a67-befb-215adbcaf7b3",
   "metadata": {},
   "outputs": [
    {
     "name": "stderr",
     "output_type": "stream",
     "text": [
      "[nltk_data] Downloading package stopwords to\n",
      "[nltk_data]     C:\\Users\\USER\\AppData\\Roaming\\nltk_data...\n",
      "[nltk_data]   Package stopwords is already up-to-date!\n"
     ]
    },
    {
     "data": {
      "text/plain": [
       "True"
      ]
     },
     "execution_count": 7,
     "metadata": {},
     "output_type": "execute_result"
    }
   ],
   "source": [
    "import nltk\n",
    "nltk.download('stopwords')"
   ]
  },
  {
   "cell_type": "code",
   "execution_count": 8,
   "id": "0ae84dea-ccbc-4b4a-a73e-868dd7cba625",
   "metadata": {},
   "outputs": [
    {
     "name": "stdout",
     "output_type": "stream",
     "text": [
      "['i', 'me', 'my', 'myself', 'we', 'our', 'ours', 'ourselves', 'you', \"you're\", \"you've\", \"you'll\", \"you'd\", 'your', 'yours', 'yourself', 'yourselves', 'he', 'him', 'his', 'himself', 'she', \"she's\", 'her', 'hers', 'herself', 'it', \"it's\", 'its', 'itself', 'they', 'them', 'their', 'theirs', 'themselves', 'what', 'which', 'who', 'whom', 'this', 'that', \"that'll\", 'these', 'those', 'am', 'is', 'are', 'was', 'were', 'be', 'been', 'being', 'have', 'has', 'had', 'having', 'do', 'does', 'did', 'doing', 'a', 'an', 'the', 'and', 'but', 'if', 'or', 'because', 'as', 'until', 'while', 'of', 'at', 'by', 'for', 'with', 'about', 'against', 'between', 'into', 'through', 'during', 'before', 'after', 'above', 'below', 'to', 'from', 'up', 'down', 'in', 'out', 'on', 'off', 'over', 'under', 'again', 'further', 'then', 'once', 'here', 'there', 'when', 'where', 'why', 'how', 'all', 'any', 'both', 'each', 'few', 'more', 'most', 'other', 'some', 'such', 'no', 'nor', 'not', 'only', 'own', 'same', 'so', 'than', 'too', 'very', 's', 't', 'can', 'will', 'just', 'don', \"don't\", 'should', \"should've\", 'now', 'd', 'll', 'm', 'o', 're', 've', 'y', 'ain', 'aren', \"aren't\", 'couldn', \"couldn't\", 'didn', \"didn't\", 'doesn', \"doesn't\", 'hadn', \"hadn't\", 'hasn', \"hasn't\", 'haven', \"haven't\", 'isn', \"isn't\", 'ma', 'mightn', \"mightn't\", 'mustn', \"mustn't\", 'needn', \"needn't\", 'shan', \"shan't\", 'shouldn', \"shouldn't\", 'wasn', \"wasn't\", 'weren', \"weren't\", 'won', \"won't\", 'wouldn', \"wouldn't\"]\n"
     ]
    }
   ],
   "source": [
    "# printing the stopwords in English\n",
    "# Stop words are common words that search engines ignore in search text.\n",
    "print(stopwords.words('english'))"
   ]
  },
  {
   "cell_type": "code",
   "execution_count": 9,
   "id": "af0a2eb3-b635-4711-a7a6-3016023b3ad3",
   "metadata": {
    "scrolled": true
   },
   "outputs": [
    {
     "data": {
      "text/html": [
       "<div>\n",
       "<style scoped>\n",
       "    .dataframe tbody tr th:only-of-type {\n",
       "        vertical-align: middle;\n",
       "    }\n",
       "\n",
       "    .dataframe tbody tr th {\n",
       "        vertical-align: top;\n",
       "    }\n",
       "\n",
       "    .dataframe thead th {\n",
       "        text-align: right;\n",
       "    }\n",
       "</style>\n",
       "<table border=\"1\" class=\"dataframe\">\n",
       "  <thead>\n",
       "    <tr style=\"text-align: right;\">\n",
       "      <th></th>\n",
       "      <th>id</th>\n",
       "      <th>title</th>\n",
       "      <th>author</th>\n",
       "      <th>text</th>\n",
       "      <th>label</th>\n",
       "    </tr>\n",
       "  </thead>\n",
       "  <tbody>\n",
       "    <tr>\n",
       "      <th>0</th>\n",
       "      <td>0</td>\n",
       "      <td>House Dem Aide: We Didn’t Even See Comey’s Let...</td>\n",
       "      <td>Darrell Lucus</td>\n",
       "      <td>House Dem Aide: We Didn’t Even See Comey’s Let...</td>\n",
       "      <td>1</td>\n",
       "    </tr>\n",
       "    <tr>\n",
       "      <th>1</th>\n",
       "      <td>1</td>\n",
       "      <td>FLYNN: Hillary Clinton, Big Woman on Campus - ...</td>\n",
       "      <td>Daniel J. Flynn</td>\n",
       "      <td>Ever get the feeling your life circles the rou...</td>\n",
       "      <td>0</td>\n",
       "    </tr>\n",
       "    <tr>\n",
       "      <th>2</th>\n",
       "      <td>2</td>\n",
       "      <td>Why the Truth Might Get You Fired</td>\n",
       "      <td>Consortiumnews.com</td>\n",
       "      <td>Why the Truth Might Get You Fired October 29, ...</td>\n",
       "      <td>1</td>\n",
       "    </tr>\n",
       "    <tr>\n",
       "      <th>3</th>\n",
       "      <td>3</td>\n",
       "      <td>15 Civilians Killed In Single US Airstrike Hav...</td>\n",
       "      <td>Jessica Purkiss</td>\n",
       "      <td>Videos 15 Civilians Killed In Single US Airstr...</td>\n",
       "      <td>1</td>\n",
       "    </tr>\n",
       "    <tr>\n",
       "      <th>4</th>\n",
       "      <td>4</td>\n",
       "      <td>Iranian woman jailed for fictional unpublished...</td>\n",
       "      <td>Howard Portnoy</td>\n",
       "      <td>Print \\nAn Iranian woman has been sentenced to...</td>\n",
       "      <td>1</td>\n",
       "    </tr>\n",
       "  </tbody>\n",
       "</table>\n",
       "</div>"
      ],
      "text/plain": [
       "   id                                              title              author  \\\n",
       "0   0  House Dem Aide: We Didn’t Even See Comey’s Let...       Darrell Lucus   \n",
       "1   1  FLYNN: Hillary Clinton, Big Woman on Campus - ...     Daniel J. Flynn   \n",
       "2   2                  Why the Truth Might Get You Fired  Consortiumnews.com   \n",
       "3   3  15 Civilians Killed In Single US Airstrike Hav...     Jessica Purkiss   \n",
       "4   4  Iranian woman jailed for fictional unpublished...      Howard Portnoy   \n",
       "\n",
       "                                                text  label  \n",
       "0  House Dem Aide: We Didn’t Even See Comey’s Let...      1  \n",
       "1  Ever get the feeling your life circles the rou...      0  \n",
       "2  Why the Truth Might Get You Fired October 29, ...      1  \n",
       "3  Videos 15 Civilians Killed In Single US Airstr...      1  \n",
       "4  Print \\nAn Iranian woman has been sentenced to...      1  "
      ]
     },
     "execution_count": 9,
     "metadata": {},
     "output_type": "execute_result"
    }
   ],
   "source": [
    "news_data = pd.read_csv('train.csv')\n",
    "news_data.head()"
   ]
  },
  {
   "cell_type": "markdown",
   "id": "174ee63a-403b-4633-9372-77cd4b017574",
   "metadata": {},
   "source": [
    "**About the Dataset:**\n",
    "\n",
    "1. **id**: unique id for a news article\n",
    "2. **title**: the title of a news article\n",
    "3. **author**: author of the news article\n",
    "4. **text**: the text of the article; could be incomplete\n",
    "5. **label**: a label that marks whether the news article is real or fake\n",
    "   \n",
    "           1 --> Fake news\n",
    "           0 --> Real News"
   ]
  },
  {
   "cell_type": "code",
   "execution_count": 10,
   "id": "0f3d5e87-3393-44de-b62b-2f04e6c5915c",
   "metadata": {},
   "outputs": [
    {
     "data": {
      "text/plain": [
       "Index(['id', 'title', 'author', 'text', 'label'], dtype='object')"
      ]
     },
     "execution_count": 10,
     "metadata": {},
     "output_type": "execute_result"
    }
   ],
   "source": [
    "news_data.columns"
   ]
  },
  {
   "cell_type": "code",
   "execution_count": 11,
   "id": "86c3199b-8fb4-4afa-b318-568bf66c4ec7",
   "metadata": {
    "scrolled": true
   },
   "outputs": [
    {
     "data": {
      "text/plain": [
       "(20800, 5)"
      ]
     },
     "execution_count": 11,
     "metadata": {},
     "output_type": "execute_result"
    }
   ],
   "source": [
    "news_data.shape"
   ]
  },
  {
   "cell_type": "code",
   "execution_count": 12,
   "id": "dad80383-ac94-48aa-89e6-c2f693ceb63f",
   "metadata": {
    "scrolled": true
   },
   "outputs": [
    {
     "name": "stdout",
     "output_type": "stream",
     "text": [
      "<class 'pandas.core.frame.DataFrame'>\n",
      "RangeIndex: 20800 entries, 0 to 20799\n",
      "Data columns (total 5 columns):\n",
      " #   Column  Non-Null Count  Dtype \n",
      "---  ------  --------------  ----- \n",
      " 0   id      20800 non-null  int64 \n",
      " 1   title   20242 non-null  object\n",
      " 2   author  18843 non-null  object\n",
      " 3   text    20761 non-null  object\n",
      " 4   label   20800 non-null  int64 \n",
      "dtypes: int64(2), object(3)\n",
      "memory usage: 812.6+ KB\n"
     ]
    }
   ],
   "source": [
    "news_data.info()"
   ]
  },
  {
   "cell_type": "code",
   "execution_count": 13,
   "id": "acb6122e-a7a5-41a2-be4e-3dff0a58e7ca",
   "metadata": {
    "scrolled": true
   },
   "outputs": [
    {
     "data": {
      "text/plain": [
       "label\n",
       "1    10413\n",
       "0    10387\n",
       "Name: count, dtype: int64"
      ]
     },
     "execution_count": 13,
     "metadata": {},
     "output_type": "execute_result"
    }
   ],
   "source": [
    "news_data['label'].value_counts()"
   ]
  },
  {
   "cell_type": "markdown",
   "id": "f74e6606-b1b8-4f95-bb7d-bbc49c9f06a1",
   "metadata": {},
   "source": [
    "_**# Balanced Dataset**_"
   ]
  },
  {
   "cell_type": "markdown",
   "id": "21f3d250-a371-41f5-bd21-0c2856b83d6d",
   "metadata": {},
   "source": [
    "# Data Pre-processing"
   ]
  },
  {
   "cell_type": "markdown",
   "id": "7fe92aad-b9b0-4b0d-ac51-a9718d242f15",
   "metadata": {},
   "source": [
    "### Missing Data Analysis"
   ]
  },
  {
   "cell_type": "code",
   "execution_count": 17,
   "id": "21398642-e619-4bc7-85d4-cd6712335619",
   "metadata": {},
   "outputs": [
    {
     "name": "stdout",
     "output_type": "stream",
     "text": [
      "Missing Values in Each Column:\n",
      " id           0\n",
      "title      558\n",
      "author    1957\n",
      "text        39\n",
      "label        0\n",
      "dtype: int64\n",
      "\n",
      "Percentage of Missing Data:\n",
      " id        0.000000\n",
      "title     2.682692\n",
      "author    9.408654\n",
      "text      0.187500\n",
      "label     0.000000\n",
      "dtype: float64\n"
     ]
    }
   ],
   "source": [
    "# Check for missing values\n",
    "missing_values = news_data.isnull().sum()\n",
    "\n",
    "# Calculate the percentage of missing data in each column \n",
    "# (for better understanding on how data is missing)\n",
    "missing_percentage = (missing_values / len(news_data)) * 100\n",
    "\n",
    "# Display the missing data statistics\n",
    "print(\"Missing Values in Each Column:\\n\", missing_values)\n",
    "print(\"\\nPercentage of Missing Data:\\n\", missing_percentage)"
   ]
  },
  {
   "cell_type": "code",
   "execution_count": 18,
   "id": "b2c995b6-a48b-4e76-818b-f1d5be97502c",
   "metadata": {},
   "outputs": [
    {
     "data": {
      "text/plain": [
       "<Axes: >"
      ]
     },
     "execution_count": 18,
     "metadata": {},
     "output_type": "execute_result"
    },
    {
     "data": {
      "image/png": "[encoded data removed]",
      "text/plain": [
       "<Figure size 640x480 with 2 Axes>"
      ]
     },
     "metadata": {},
     "output_type": "display_data"
    }
   ],
   "source": [
    "# Missing values heatmap\n",
    "sns.heatmap(news_data.isnull())"
   ]
  },
  {
   "cell_type": "code",
   "execution_count": 19,
   "id": "b252f2e7-8c2d-4eff-a889-7a8ffd49133f",
   "metadata": {},
   "outputs": [],
   "source": [
    "# replacing the null values with empty string\n",
    "news_data_cleaned = news_data.fillna(\"\")"
   ]
  },
  {
   "cell_type": "code",
   "execution_count": 20,
   "id": "4e85d707-1fa4-40a3-afab-6be826bf129f",
   "metadata": {},
   "outputs": [
    {
     "name": "stdout",
     "output_type": "stream",
     "text": [
      "\n",
      "Missing values in each column after removal:\n",
      "id        0\n",
      "title     0\n",
      "author    0\n",
      "text      0\n",
      "label     0\n",
      "dtype: int64\n"
     ]
    }
   ],
   "source": [
    "# Verify that missing values have been removed\n",
    "print(\"\\nMissing values in each column after removal:\")\n",
    "print(news_data_cleaned.isnull().sum())"
   ]
  },
  {
   "cell_type": "code",
   "execution_count": 21,
   "id": "aa3d0696-1a17-4b83-9b81-8926dca6b80d",
   "metadata": {},
   "outputs": [
    {
     "data": {
      "text/plain": [
       "<Axes: >"
      ]
     },
     "execution_count": 21,
     "metadata": {},
     "output_type": "execute_result"
    },
    {
     "data": {
      "image/png": "[encoded data removed]",
      "text/plain": [
       "<Figure size 640x480 with 2 Axes>"
      ]
     },
     "metadata": {},
     "output_type": "display_data"
    }
   ],
   "source": [
    "# Missing values heatmap\n",
    "sns.heatmap(news_data_cleaned.isnull())"
   ]
  },
  {
   "cell_type": "markdown",
   "id": "4cb0c424-4598-4387-889e-e90b72185be0",
   "metadata": {},
   "source": [
    "**Now, our data is free from missing values!!!**"
   ]
  },
  {
   "cell_type": "markdown",
   "id": "eef8d0c7-64c6-436a-a18e-9f5afce5d7aa",
   "metadata": {},
   "source": [
    "### Creating 'content' column"
   ]
  },
  {
   "cell_type": "code",
   "execution_count": 24,
   "id": "7a54e829-34e0-4e3f-9a7a-280329473a73",
   "metadata": {},
   "outputs": [],
   "source": [
    "news_data2 = news_data_cleaned.copy()"
   ]
  },
  {
   "cell_type": "code",
   "execution_count": 25,
   "id": "7a50f845-3521-438c-83c2-54fb1b192c22",
   "metadata": {},
   "outputs": [],
   "source": [
    "# Create a content column by merging the author name and news title \n",
    "news_data2['content'] = news_data2['author'] +' '+ news_data2['title']"
   ]
  },
  {
   "cell_type": "code",
   "execution_count": 26,
   "id": "d938439a-de05-4873-9487-582a0c2302ae",
   "metadata": {},
   "outputs": [
    {
     "data": {
      "text/plain": [
       "0    Darrell Lucus House Dem Aide: We Didn’t Even S...\n",
       "1    Daniel J. Flynn FLYNN: Hillary Clinton, Big Wo...\n",
       "2    Consortiumnews.com Why the Truth Might Get You...\n",
       "3    Jessica Purkiss 15 Civilians Killed In Single ...\n",
       "4    Howard Portnoy Iranian woman jailed for fictio...\n",
       "Name: content, dtype: object"
      ]
     },
     "execution_count": 26,
     "metadata": {},
     "output_type": "execute_result"
    }
   ],
   "source": [
    "news_data2['content'].head()"
   ]
  },
  {
   "cell_type": "markdown",
   "id": "9e3de0d9-2e14-4930-96b5-d8b48e32f7f4",
   "metadata": {},
   "source": [
    "### Stemming:"
   ]
  },
  {
   "cell_type": "markdown",
   "id": "6c78798d-8bf2-47b2-8a1b-553370a70d6e",
   "metadata": {},
   "source": [
    "Stemming is the process of reducing a word to its **root** word.\n",
    "\n",
    "example:\n",
    "actor, actress, acting --> act"
   ]
  },
  {
   "cell_type": "code",
   "execution_count": 29,
   "id": "01d4b45a-402f-40b7-af9f-5db5aa39892f",
   "metadata": {},
   "outputs": [
    {
     "data": {
      "text/html": [
       "<div>\n",
       "<style scoped>\n",
       "    .dataframe tbody tr th:only-of-type {\n",
       "        vertical-align: middle;\n",
       "    }\n",
       "\n",
       "    .dataframe tbody tr th {\n",
       "        vertical-align: top;\n",
       "    }\n",
       "\n",
       "    .dataframe thead th {\n",
       "        text-align: right;\n",
       "    }\n",
       "</style>\n",
       "<table border=\"1\" class=\"dataframe\">\n",
       "  <thead>\n",
       "    <tr style=\"text-align: right;\">\n",
       "      <th></th>\n",
       "      <th>id</th>\n",
       "      <th>title</th>\n",
       "      <th>author</th>\n",
       "      <th>text</th>\n",
       "      <th>label</th>\n",
       "      <th>content</th>\n",
       "    </tr>\n",
       "  </thead>\n",
       "  <tbody>\n",
       "    <tr>\n",
       "      <th>0</th>\n",
       "      <td>0</td>\n",
       "      <td>House Dem Aide: We Didn’t Even See Comey’s Let...</td>\n",
       "      <td>Darrell Lucus</td>\n",
       "      <td>House Dem Aide: We Didn’t Even See Comey’s Let...</td>\n",
       "      <td>1</td>\n",
       "      <td>Darrell Lucus House Dem Aide: We Didn’t Even S...</td>\n",
       "    </tr>\n",
       "    <tr>\n",
       "      <th>1</th>\n",
       "      <td>1</td>\n",
       "      <td>FLYNN: Hillary Clinton, Big Woman on Campus - ...</td>\n",
       "      <td>Daniel J. Flynn</td>\n",
       "      <td>Ever get the feeling your life circles the rou...</td>\n",
       "      <td>0</td>\n",
       "      <td>Daniel J. Flynn FLYNN: Hillary Clinton, Big Wo...</td>\n",
       "    </tr>\n",
       "    <tr>\n",
       "      <th>2</th>\n",
       "      <td>2</td>\n",
       "      <td>Why the Truth Might Get You Fired</td>\n",
       "      <td>Consortiumnews.com</td>\n",
       "      <td>Why the Truth Might Get You Fired October 29, ...</td>\n",
       "      <td>1</td>\n",
       "      <td>Consortiumnews.com Why the Truth Might Get You...</td>\n",
       "    </tr>\n",
       "    <tr>\n",
       "      <th>3</th>\n",
       "      <td>3</td>\n",
       "      <td>15 Civilians Killed In Single US Airstrike Hav...</td>\n",
       "      <td>Jessica Purkiss</td>\n",
       "      <td>Videos 15 Civilians Killed In Single US Airstr...</td>\n",
       "      <td>1</td>\n",
       "      <td>Jessica Purkiss 15 Civilians Killed In Single ...</td>\n",
       "    </tr>\n",
       "    <tr>\n",
       "      <th>4</th>\n",
       "      <td>4</td>\n",
       "      <td>Iranian woman jailed for fictional unpublished...</td>\n",
       "      <td>Howard Portnoy</td>\n",
       "      <td>Print \\nAn Iranian woman has been sentenced to...</td>\n",
       "      <td>1</td>\n",
       "      <td>Howard Portnoy Iranian woman jailed for fictio...</td>\n",
       "    </tr>\n",
       "  </tbody>\n",
       "</table>\n",
       "</div>"
      ],
      "text/plain": [
       "   id                                              title              author  \\\n",
       "0   0  House Dem Aide: We Didn’t Even See Comey’s Let...       Darrell Lucus   \n",
       "1   1  FLYNN: Hillary Clinton, Big Woman on Campus - ...     Daniel J. Flynn   \n",
       "2   2                  Why the Truth Might Get You Fired  Consortiumnews.com   \n",
       "3   3  15 Civilians Killed In Single US Airstrike Hav...     Jessica Purkiss   \n",
       "4   4  Iranian woman jailed for fictional unpublished...      Howard Portnoy   \n",
       "\n",
       "                                                text  label  \\\n",
       "0  House Dem Aide: We Didn’t Even See Comey’s Let...      1   \n",
       "1  Ever get the feeling your life circles the rou...      0   \n",
       "2  Why the Truth Might Get You Fired October 29, ...      1   \n",
       "3  Videos 15 Civilians Killed In Single US Airstr...      1   \n",
       "4  Print \\nAn Iranian woman has been sentenced to...      1   \n",
       "\n",
       "                                             content  \n",
       "0  Darrell Lucus House Dem Aide: We Didn’t Even S...  \n",
       "1  Daniel J. Flynn FLYNN: Hillary Clinton, Big Wo...  \n",
       "2  Consortiumnews.com Why the Truth Might Get You...  \n",
       "3  Jessica Purkiss 15 Civilians Killed In Single ...  \n",
       "4  Howard Portnoy Iranian woman jailed for fictio...  "
      ]
     },
     "execution_count": 29,
     "metadata": {},
     "output_type": "execute_result"
    }
   ],
   "source": [
    "news_data2.head()"
   ]
  },
  {
   "cell_type": "code",
   "execution_count": 30,
   "id": "32408708-b601-4110-8346-801c4abf9a96",
   "metadata": {},
   "outputs": [],
   "source": [
    "port_stem = PorterStemmer()"
   ]
  },
  {
   "cell_type": "code",
   "execution_count": 31,
   "id": "34d662b9-ec62-4007-9e7a-8755bd8292b3",
   "metadata": {},
   "outputs": [],
   "source": [
    "def stemming(content):\n",
    "    # replace any non-alphabetic characters in the content variable with a space character\n",
    "    stemmed_content= re.sub('[^a-zA-Z]',' ', content)\n",
    "    \n",
    "    # Convert all words into lower case letters\n",
    "    stemmed_content = stemmed_content.lower() \n",
    "    \n",
    "    # Split the words into list\n",
    "    stemmed_content = stemmed_content.split()\n",
    "    \n",
    "    #generate a list of stemmed words from stemmed_content, excluding any stop words from the list\n",
    "    stemmed_content = [port_stem.stem(word) for word in stemmed_content if not word in stopwords.words('english')]\n",
    "    \n",
    "    #Join the elements from the list 'stemmed_content' into a single string separated by spaces\n",
    "    stemmed_content = \" \".join(stemmed_content)\n",
    "    \n",
    "    return stemmed_content"
   ]
  },
  {
   "cell_type": "code",
   "execution_count": 32,
   "id": "56dc97a8-8620-4423-8a83-aaf5b3323686",
   "metadata": {},
   "outputs": [],
   "source": [
    "news_data2['content'] = news_data2['content'].apply(stemming)"
   ]
  },
  {
   "cell_type": "code",
   "execution_count": 33,
   "id": "7741b371-6663-4bce-b2d6-b38920057729",
   "metadata": {},
   "outputs": [
    {
     "data": {
      "text/plain": [
       "0    darrel lucu hous dem aid even see comey letter...\n",
       "1    daniel j flynn flynn hillari clinton big woman...\n",
       "2               consortiumnew com truth might get fire\n",
       "3    jessica purkiss civilian kill singl us airstri...\n",
       "4    howard portnoy iranian woman jail fiction unpu...\n",
       "Name: content, dtype: object"
      ]
     },
     "execution_count": 33,
     "metadata": {},
     "output_type": "execute_result"
    }
   ],
   "source": [
    "news_data2['content'].head()"
   ]
  },
  {
   "cell_type": "code",
   "execution_count": 34,
   "id": "8cb235f5-0652-4326-a9db-23c1f2b51abd",
   "metadata": {},
   "outputs": [],
   "source": [
    "# separating the data and label\n",
    "# Using the text column data will take too much computations so the content \n",
    "# column (author + title) will be a good substitute\n",
    "X = news_data2['content'].values\n",
    "y = news_data2['label'].values"
   ]
  },
  {
   "cell_type": "code",
   "execution_count": 35,
   "id": "6fe1dcef-c122-4617-8fab-f6ecb7b6fbff",
   "metadata": {},
   "outputs": [
    {
     "data": {
      "text/plain": [
       "array(['darrel lucu hous dem aid even see comey letter jason chaffetz tweet',\n",
       "       'daniel j flynn flynn hillari clinton big woman campu breitbart',\n",
       "       'consortiumnew com truth might get fire', ...,\n",
       "       'michael j de la merc rachel abram maci said receiv takeov approach hudson bay new york time',\n",
       "       'alex ansari nato russia hold parallel exercis balkan',\n",
       "       'david swanson keep f aliv'], dtype=object)"
      ]
     },
     "execution_count": 35,
     "metadata": {},
     "output_type": "execute_result"
    }
   ],
   "source": [
    "X"
   ]
  },
  {
   "cell_type": "code",
   "execution_count": 36,
   "id": "ab029d64-dd86-4be8-a71f-aa17ffb17bfc",
   "metadata": {},
   "outputs": [
    {
     "data": {
      "text/plain": [
       "array([1, 0, 1, ..., 0, 1, 1], dtype=int64)"
      ]
     },
     "execution_count": 36,
     "metadata": {},
     "output_type": "execute_result"
    }
   ],
   "source": [
    "y"
   ]
  },
  {
   "cell_type": "markdown",
   "id": "b7b1f20d-1110-4f69-b0cf-5aa3a57e5285",
   "metadata": {},
   "source": [
    "### Applying Vectorizer"
   ]
  },
  {
   "cell_type": "code",
   "execution_count": 38,
   "id": "914e4368-ee42-462c-83c6-0a7a8762a570",
   "metadata": {},
   "outputs": [],
   "source": [
    "# converting the textual data to numerical data\n",
    "vectorizer = TfidfVectorizer()\n",
    "vectorizer.fit(X)\n",
    "\n",
    "X_vect = vectorizer.transform(X)"
   ]
  },
  {
   "cell_type": "code",
   "execution_count": 39,
   "id": "b89b14e1-8c2c-4d8e-8f98-3cee2ff42812",
   "metadata": {},
   "outputs": [
    {
     "name": "stdout",
     "output_type": "stream",
     "text": [
      "  (0, 15686)\t0.28485063562728646\n",
      "  (0, 13473)\t0.2565896679337957\n",
      "  (0, 8909)\t0.3635963806326075\n",
      "  (0, 8630)\t0.29212514087043684\n",
      "  (0, 7692)\t0.24785219520671603\n",
      "  (0, 7005)\t0.21874169089359144\n",
      "  (0, 4973)\t0.233316966909351\n",
      "  (0, 3792)\t0.2705332480845492\n",
      "  (0, 3600)\t0.3598939188262559\n",
      "  (0, 2959)\t0.2468450128533713\n",
      "  (0, 2483)\t0.3676519686797209\n",
      "  (0, 267)\t0.27010124977708766\n",
      "  (1, 16799)\t0.30071745655510157\n",
      "  (1, 6816)\t0.1904660198296849\n",
      "  (1, 5503)\t0.7143299355715573\n",
      "  (1, 3568)\t0.26373768806048464\n",
      "  (1, 2813)\t0.19094574062359204\n",
      "  (1, 2223)\t0.3827320386859759\n",
      "  (1, 1894)\t0.15521974226349364\n",
      "  (1, 1497)\t0.2939891562094648\n",
      "  (2, 15611)\t0.41544962664721613\n",
      "  (2, 9620)\t0.49351492943649944\n",
      "  (2, 5968)\t0.3474613386728292\n",
      "  (2, 5389)\t0.3866530551182615\n",
      "  (2, 3103)\t0.46097489583229645\n",
      "  :\t:\n",
      "  (20797, 13122)\t0.2482526352197606\n",
      "  (20797, 12344)\t0.27263457663336677\n",
      "  (20797, 12138)\t0.24778257724396507\n",
      "  (20797, 10306)\t0.08038079000566466\n",
      "  (20797, 9588)\t0.174553480255222\n",
      "  (20797, 9518)\t0.2954204003420313\n",
      "  (20797, 8988)\t0.36160868928090795\n",
      "  (20797, 8364)\t0.22322585870464118\n",
      "  (20797, 7042)\t0.21799048897828688\n",
      "  (20797, 3643)\t0.21155500613623743\n",
      "  (20797, 1287)\t0.33538056804139865\n",
      "  (20797, 699)\t0.30685846079762347\n",
      "  (20797, 43)\t0.29710241860700626\n",
      "  (20798, 13046)\t0.22363267488270608\n",
      "  (20798, 11052)\t0.4460515589182236\n",
      "  (20798, 10177)\t0.3192496370187028\n",
      "  (20798, 6889)\t0.32496285694299426\n",
      "  (20798, 5032)\t0.4083701450239529\n",
      "  (20798, 1125)\t0.4460515589182236\n",
      "  (20798, 588)\t0.3112141524638974\n",
      "  (20798, 350)\t0.28446937819072576\n",
      "  (20799, 14852)\t0.5677577267055112\n",
      "  (20799, 8036)\t0.45983893273780013\n",
      "  (20799, 3623)\t0.37927626273066584\n",
      "  (20799, 377)\t0.5677577267055112\n"
     ]
    }
   ],
   "source": [
    "print(X_vect)"
   ]
  },
  {
   "cell_type": "code",
   "execution_count": 40,
   "id": "30bb499d-f8a6-4fa6-8127-b50bce1b3f48",
   "metadata": {},
   "outputs": [],
   "source": [
    "X_train, X_test, y_train, y_test = train_test_split(X_vect, y, test_size = 0.2, stratify=y, random_state=7)"
   ]
  },
  {
   "cell_type": "markdown",
   "id": "56c10922-d3b8-498c-8073-80455820bdcf",
   "metadata": {},
   "source": [
    "# Training Model"
   ]
  },
  {
   "cell_type": "markdown",
   "id": "192e540d-ea58-4776-b663-887772cb2f8b",
   "metadata": {},
   "source": [
    "### Imports"
   ]
  },
  {
   "cell_type": "code",
   "execution_count": 158,
   "id": "8d9875b6-8039-4fe8-8c50-b6716a78b035",
   "metadata": {},
   "outputs": [],
   "source": [
    "from sklearn.linear_model import LogisticRegression\n",
    "from sklearn.svm import SVC\n",
    "from sklearn.tree import DecisionTreeClassifier\n",
    "from sklearn.ensemble import RandomForestClassifier, GradientBoostingClassifier\n",
    "from sklearn.model_selection import GridSearchCV\n",
    "from sklearn.metrics import accuracy_score, f1_score, recall_score, precision_score, ConfusionMatrixDisplay, classification_report"
   ]
  },
  {
   "cell_type": "code",
   "execution_count": 119,
   "id": "6150339f-985c-4d14-90e9-30f08a9de591",
   "metadata": {},
   "outputs": [],
   "source": [
    "def train_and_evaluate(model , model_name):\n",
    "    model.fit(X_train, y_train)\n",
    "    print(f\"Training accuracy of {model_name} is {model.score(X_train,y_train)}\")\n",
    "    print(f\"testing accuracy of {model_name} is {model.score(X_test, y_test)}\")\n",
    "    ConfusionMatrixDisplay.from_estimator(model, X_test, y_test, cmap='Accent')\n",
    "    print(classification_report(y_test, model.predict(X_test)))\n",
    "    return model"
   ]
  },
  {
   "cell_type": "markdown",
   "id": "82fd74c2-3632-4db5-838a-bc6379d950b2",
   "metadata": {},
   "source": [
    "### Using Logistic Regression"
   ]
  },
  {
   "cell_type": "code",
   "execution_count": 121,
   "id": "e1483e6d-7d37-4a01-a5ed-fb35eb6912c2",
   "metadata": {},
   "outputs": [
    {
     "name": "stdout",
     "output_type": "stream",
     "text": [
      "Training accuracy of Logistic Regression is 0.9870192307692308\n",
      "testing accuracy of Logistic Regression is 0.978125\n",
      "              precision    recall  f1-score   support\n",
      "\n",
      "           0       0.99      0.96      0.98      2077\n",
      "           1       0.96      0.99      0.98      2083\n",
      "\n",
      "    accuracy                           0.98      4160\n",
      "   macro avg       0.98      0.98      0.98      4160\n",
      "weighted avg       0.98      0.98      0.98      4160\n",
      "\n"
     ]
    },
    {
     "data": {
      "image/png": "[encoded data removed]",
      "text/plain": [
       "<Figure size 640x480 with 2 Axes>"
      ]
     },
     "metadata": {},
     "output_type": "display_data"
    }
   ],
   "source": [
    "lr_model = LogisticRegression()\n",
    "lr_model = train_and_evaluate(lr_model, 'Logistic Regression')"
   ]
  },
  {
   "cell_type": "code",
   "execution_count": 164,
   "id": "a8c96b2c-fb4f-4a32-b184-dec17a542ef9",
   "metadata": {},
   "outputs": [
    {
     "name": "stdout",
     "output_type": "stream",
     "text": [
      "0.978125 0.9784920822500591 0.9937590014402304 0.9636871508379888\n"
     ]
    }
   ],
   "source": [
    "y_pred = lr_model.predict(X_test)\n",
    "\n",
    "accuracy_lr = accuracy_score(y_test, y_pred)\n",
    "f1_lr = f1_score(y_test, y_pred)\n",
    "recall_lr = recall_score(y_test, y_pred)\n",
    "precision_lr = precision_score(y_test, y_pred)\n",
    "\n",
    "print(accuracy_lr, f1_lr, recall_lr, precision_lr)"
   ]
  },
  {
   "cell_type": "markdown",
   "id": "a96a475a-c3c2-4c74-bf29-2d1cfd73838e",
   "metadata": {},
   "source": [
    "### Using SVM"
   ]
  },
  {
   "cell_type": "code",
   "execution_count": 133,
   "id": "9fd815b9-f468-4054-8c4d-b0205410554d",
   "metadata": {},
   "outputs": [
    {
     "name": "stdout",
     "output_type": "stream",
     "text": [
      "Training accuracy of SVM is 0.998858173076923\n",
      "testing accuracy of SVM is 0.9882211538461538\n",
      "              precision    recall  f1-score   support\n",
      "\n",
      "           0       1.00      0.98      0.99      2077\n",
      "           1       0.98      1.00      0.99      2083\n",
      "\n",
      "    accuracy                           0.99      4160\n",
      "   macro avg       0.99      0.99      0.99      4160\n",
      "weighted avg       0.99      0.99      0.99      4160\n",
      "\n"
     ]
    },
    {
     "data": {
      "image/png": "[encoded data removed]",
      "text/plain": [
       "<Figure size 640x480 with 2 Axes>"
      ]
     },
     "metadata": {},
     "output_type": "display_data"
    }
   ],
   "source": [
    "svc_model = SVC()\n",
    "svc_model = train_and_evaluate(svc_model, 'SVM')"
   ]
  },
  {
   "cell_type": "code",
   "execution_count": 162,
   "id": "e9ae3f5d-ac9c-4d75-99d9-377afb852e87",
   "metadata": {},
   "outputs": [
    {
     "name": "stdout",
     "output_type": "stream",
     "text": [
      "0.9882211538461538 0.9883361104498929 0.9966394623139703 0.9801699716713881\n"
     ]
    }
   ],
   "source": [
    "y_pred = svc_model.predict(X_test)\n",
    "\n",
    "accuracy_svc = accuracy_score(y_test, y_pred)\n",
    "f1_svc = f1_score(y_test, y_pred)\n",
    "recall_svc = recall_score(y_test, y_pred)\n",
    "precision_svc = precision_score(y_test, y_pred)\n",
    "\n",
    "print(accuracy_svc, f1_svc, recall_svc, precision_svc)"
   ]
  },
  {
   "cell_type": "markdown",
   "id": "703bcaac-6054-42f2-8e8b-06e5109c4615",
   "metadata": {},
   "source": [
    "### Using Decision Tree Classifier"
   ]
  },
  {
   "cell_type": "code",
   "execution_count": 141,
   "id": "1b3227f3-6ce4-4289-b931-7f402fc7ac53",
   "metadata": {},
   "outputs": [
    {
     "name": "stdout",
     "output_type": "stream",
     "text": [
      "Training accuracy of Decison Tree is 0.9982572115384616\n",
      "testing accuracy of Decison Tree is 0.9935096153846154\n",
      "              precision    recall  f1-score   support\n",
      "\n",
      "           0       1.00      0.99      0.99      2077\n",
      "           1       0.99      1.00      0.99      2083\n",
      "\n",
      "    accuracy                           0.99      4160\n",
      "   macro avg       0.99      0.99      0.99      4160\n",
      "weighted avg       0.99      0.99      0.99      4160\n",
      "\n"
     ]
    },
    {
     "data": {
      "image/png": "[encoded data removed]",
      "text/plain": [
       "<Figure size 640x480 with 2 Axes>"
      ]
     },
     "metadata": {},
     "output_type": "display_data"
    }
   ],
   "source": [
    "dtc_model = DecisionTreeClassifier(max_depth=58,random_state=42)\n",
    "dtc_model = train_and_evaluate(dtc_model, \"Decison Tree\")"
   ]
  },
  {
   "cell_type": "code",
   "execution_count": 160,
   "id": "d268b1cc-85ef-4e55-9167-ed547da7e92c",
   "metadata": {},
   "outputs": [
    {
     "name": "stdout",
     "output_type": "stream",
     "text": [
      "0.9935096153846154 0.9935483870967742 0.9980796927508402 0.989058039961941\n"
     ]
    }
   ],
   "source": [
    "y_pred = dtc_model.predict(X_test)\n",
    "\n",
    "accuracy_dtc = accuracy_score(y_test, y_pred)\n",
    "f1_dtc = f1_score(y_test, y_pred)\n",
    "recall_dtc = recall_score(y_test, y_pred)\n",
    "precision_dtc = precision_score(y_test, y_pred)\n",
    "\n",
    "print(accuracy_dtc, f1_dtc, recall_dtc, precision_dtc)"
   ]
  },
  {
   "cell_type": "markdown",
   "id": "3ad26eb8-c53f-48c0-948e-6d52b52fe21f",
   "metadata": {},
   "source": [
    "### Comparing"
   ]
  },
  {
   "cell_type": "code",
   "execution_count": 194,
   "id": "683205a7-22b6-46ea-b032-336769ec4bd3",
   "metadata": {},
   "outputs": [
    {
     "name": "stdout",
     "output_type": "stream",
     "text": [
      "                 Model  Accuracy  F1 Score  Recall  Precision\n",
      "0  Logistic Regression     0.978     0.978   0.994      0.964\n",
      "1                  SVM     0.988     0.988   0.997      0.980\n",
      "2        Decision Tree     0.994     0.994   0.998      0.989\n"
     ]
    }
   ],
   "source": [
    "# Compile all performance metrics into a dictionary for easy visualization\n",
    "performance_metrics = {\n",
    "    \"Model\": [\"Logistic Regression\", \"SVM\", \"Decision Tree\"],\n",
    "    \"Accuracy\": [accuracy_lr, accuracy_svc, accuracy_dtc],\n",
    "    \"F1 Score\": [f1_lr, f1_svc, f1_dtc],\n",
    "    \"Recall\": [recall_lr, recall_svc, recall_dtc],\n",
    "    \"Precision\": [precision_lr, precision_svc, precision_dtc]\n",
    "}\n",
    "\n",
    "# Convert to DataFrame for easier plotting\n",
    "df_metrics = pd.DataFrame(performance_metrics)\n",
    "\n",
    "df_metrics = df_metrics.round(3)\n",
    "print(df_metrics)"
   ]
  },
  {
   "cell_type": "markdown",
   "id": "7fb7aa88-eeaf-41bc-a0e1-97ed2b9c046c",
   "metadata": {
    "jp-MarkdownHeadingCollapsed": true
   },
   "source": [
    "<h4>The <b>Decision Trees Model</b> has the best accuracy, <b>99.4%</b></h4>"
   ]
  },
  {
   "cell_type": "markdown",
   "id": "105090fc-bb38-4c49-94bc-a6fd375729f3",
   "metadata": {},
   "source": [
    "# Test Prediction"
   ]
  },
  {
   "cell_type": "code",
   "execution_count": 53,
   "id": "73cd70e1-6378-4335-a9d2-0c626f4d82f3",
   "metadata": {},
   "outputs": [],
   "source": [
    "best_model = dtc_model"
   ]
  },
  {
   "cell_type": "code",
   "execution_count": 54,
   "id": "cb3f0732-9ab8-4290-b31f-ef451be3d4b5",
   "metadata": {},
   "outputs": [
    {
     "data": {
      "text/plain": [
       "array([1, 0, 1, 1, 1, 0, 1, 0, 0, 0], dtype=int64)"
      ]
     },
     "execution_count": 54,
     "metadata": {},
     "output_type": "execute_result"
    }
   ],
   "source": [
    "best_model.predict(X_vect[:10])"
   ]
  },
  {
   "cell_type": "code",
   "execution_count": 55,
   "id": "8eb288cf-841f-4a84-ba48-d187b584ac8a",
   "metadata": {},
   "outputs": [
    {
     "data": {
      "text/plain": [
       "array([1, 0, 1, 1, 1, 0, 1, 0, 0, 0], dtype=int64)"
      ]
     },
     "execution_count": 55,
     "metadata": {},
     "output_type": "execute_result"
    }
   ],
   "source": [
    "y[:10]"
   ]
  },
  {
   "cell_type": "code",
   "execution_count": 56,
   "id": "a949fe22-0c3b-45c3-9c8d-852a02a6b937",
   "metadata": {},
   "outputs": [
    {
     "data": {
      "text/plain": [
       "Index(['id', 'title', 'author', 'text', 'label'], dtype='object')"
      ]
     },
     "execution_count": 56,
     "metadata": {},
     "output_type": "execute_result"
    }
   ],
   "source": [
    "news_data.columns"
   ]
  },
  {
   "cell_type": "code",
   "execution_count": 57,
   "id": "f7886205-1ab2-4b70-819d-8f36906be190",
   "metadata": {},
   "outputs": [],
   "source": [
    "def predict_label(title, author, text):\n",
    "    content = author +\" \"+title\n",
    "    content = stemming(content)\n",
    "    X_vect = vectorizer.transform([content])\n",
    "    return best_model.predict(X_vect)"
   ]
  },
  {
   "cell_type": "code",
   "execution_count": 58,
   "id": "b1585f64-2a08-40a5-8418-c20f9b50504e",
   "metadata": {},
   "outputs": [],
   "source": [
    "title1 = \"FLYNN: Hillary Clinton, Big Woman on Campus - Breitbart\"\n",
    "author1 = \"Daniel J. Flynn\"\n",
    "text1 = \"\"  # NOT NEEDED"
   ]
  },
  {
   "cell_type": "code",
   "execution_count": 59,
   "id": "15dddba3-5196-4537-8dfd-37de896812a1",
   "metadata": {},
   "outputs": [
    {
     "data": {
      "text/plain": [
       "array([0], dtype=int64)"
      ]
     },
     "execution_count": 59,
     "metadata": {},
     "output_type": "execute_result"
    }
   ],
   "source": [
    "predict_label(title1, author1, text1)"
   ]
  },
  {
   "cell_type": "code",
   "execution_count": 60,
   "id": "4fe9e94c-de27-4a1f-8eaf-e8b2271895d1",
   "metadata": {},
   "outputs": [],
   "source": [
    "title2 = \"House Dem Aide: We Didnâ€™t Even See Comeyâ€™s Letter Until Jason Chaffetz Tweeted It\"\n",
    "author2 = \"Darrell Lucus\"\n",
    "text2 = \"\" # NOT USEFUL"
   ]
  },
  {
   "cell_type": "code",
   "execution_count": 61,
   "id": "c94475d1-bfb6-4616-b28c-3edee929176c",
   "metadata": {},
   "outputs": [
    {
     "data": {
      "text/plain": [
       "array([1], dtype=int64)"
      ]
     },
     "execution_count": 61,
     "metadata": {},
     "output_type": "execute_result"
    }
   ],
   "source": [
    "predict_label(title2, author2, text2)"
   ]
  },
  {
   "cell_type": "code",
   "execution_count": 62,
   "id": "d3af2281-908f-41de-b33c-68799768cf49",
   "metadata": {},
   "outputs": [],
   "source": [
    "title3 = \"Ronaldo to hit 1000 goals nest year - Wenger\"\n",
    "author3 = \"Lancelot H. Gabriel\"\n",
    "text3 = \"\"  # NOT NEEDED"
   ]
  },
  {
   "cell_type": "code",
   "execution_count": 63,
   "id": "02a4d34c-4bd3-4775-b677-0d8b3a539361",
   "metadata": {},
   "outputs": [
    {
     "data": {
      "text/plain": [
       "array([1], dtype=int64)"
      ]
     },
     "execution_count": 63,
     "metadata": {},
     "output_type": "execute_result"
    }
   ],
   "source": [
    "predict_label(title3, author3, text3)"
   ]
  },
  {
   "cell_type": "markdown",
   "id": "56ffb73d-f1ae-4e42-a4df-c38e0aae6168",
   "metadata": {},
   "source": [
    "# Exporting Model"
   ]
  },
  {
   "cell_type": "code",
   "execution_count": 65,
   "id": "5a4c31f6-b390-40e3-acc3-41a355349b08",
   "metadata": {},
   "outputs": [],
   "source": [
    "# Export model\n",
    "import pickle\n",
    "with open('fake_news_model.pickle', 'wb') as f:\n",
    "    pickle.dump(best_model, f)"
   ]
  },
  {
   "cell_type": "code",
   "execution_count": 66,
   "id": "5c745f3d-fc8f-4db5-9e39-251c637c516b",
   "metadata": {},
   "outputs": [],
   "source": [
    "# Export vectorizer\n",
    "with open('fake_news_vectorizer.pickle', 'wb') as f:\n",
    "    pickle.dump(vectorizer, f)"
   ]
  }
 ],
 "metadata": {
  "kernelspec": {
   "display_name": "Python 3 (ipykernel)",
   "language": "python",
   "name": "python3"
  },
  "language_info": {
   "codemirror_mode": {
    "name": "ipython",
    "version": 3
   },
   "file_extension": ".py",
   "mimetype": "text/x-python",
   "name": "python",
   "nbconvert_exporter": "python",
   "pygments_lexer": "ipython3",
   "version": "3.12.4"
  }
 },
 "nbformat": 4,
 "nbformat_minor": 5
}
